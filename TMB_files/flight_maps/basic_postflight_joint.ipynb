{
 "cells": [
  {
   "cell_type": "markdown",
   "metadata": {},
   "source": [
    "# Basic Postflight\n",
    "Basic structure and skeleton for postflight scripts.\n",
    "\n",
    "4/15/2020\n"
   ]
  },
  {
   "cell_type": "code",
   "execution_count": null,
   "metadata": {},
   "outputs": [],
   "source": [
    "import json #unneeded\n",
    "import matplotlib.pyplot as plt\n",
    "from datetime import datetime\n",
    "from matplotlib import pyplot\n",
    "import pandas as pd\n",
    "import numpy as np"
   ]
  },
  {
   "cell_type": "markdown",
   "metadata": {},
   "source": [
    "## Import Data\n",
    "Basic import functions are defined here. \n",
    "\n"
   ]
  },
  {
   "cell_type": "code",
   "execution_count": null,
   "metadata": {},
   "outputs": [],
   "source": [
    "def import_json(filename):\n",
    "    \"\"\" Returns a python dataframe using json data from <filename> \"\"\"\n",
    "    data = pd.read_json(filename)\n",
    "    print('JSON data for ', filename)\n",
    "    print(data.head(5))\n",
    "    return data\n",
    "\n",
    "\n",
    "def import_csv(filename):\n",
    "    \"\"\" Returns a python dataframe using csv data from <filename> \"\"\"\n",
    "    data = pd.read_csv(filename)\n",
    "    print('CSV data for ', filename)\n",
    "    print(data.head(5))\n",
    "    return data"
   ]
  },
  {
   "cell_type": "code",
   "execution_count": null,
   "metadata": {},
   "outputs": [],
   "source": [
    "print('You can use the .__doc__ function to get more information about a function. ' \\\n",
    "      'E.g. >import_json.__doc')\n",
    "print(import_json.__doc__ )\n",
    "print()\n",
    "piper_table = import_json('n4023f_stamprun.json', )\n",
    "print()\n",
    "flightsim_table = import_csv(\"sample_flight_sim.csv\")\n",
    "\n",
    "#flightsim_table.head()"
   ]
  },
  {
   "cell_type": "code",
   "execution_count": null,
   "metadata": {},
   "outputs": [],
   "source": [
    "timeList = []\n",
    "for timestamp in flightsim_table.Timestamp:\n",
    "    timeList.append(pd.to_datetime(timestamp, format='%H:%M:%S'))\n",
    "\n",
    "flightsim_time_diff = []\n",
    "for i in range(len(timeList)-1):\n",
    "    timeDelta = timeList[i+1] - timeList[i]\n",
    "    flightsim_time_diff.append(timeDelta.total_seconds())\n",
    "\n",
    "flightsim_time_diff.append('NaN')\n",
    "flightsim_table['timeDelta'] = flightsim_time_diff"
   ]
  },
  {
   "cell_type": "markdown",
   "metadata": {},
   "source": [
    "## Initial Data Exploration\n",
    "Look at the two plots below:\n",
    "1. What is being plotted?\n",
    "2. What does this show us?\n",
    "3. Why is this useful?\n",
    "\n",
    "To do\n",
    "1. Create a function, flightsim_check, that conducts multiple checks on the data and reports this to the user (DRJ)\n",
    "2. Create a function, piper_check, that conducts multiple checks on the data and reports this to the user (TMB)\n",
    "\n",
    "For 1 and 2, explore multiple methods to present the data checks\n",
    "\n",
    "3. Create functions, flightsim_pos_plot and flightsim_or_plot, that plot position (3 plots on 1 page), and orientation (3 plots on 1 page) for flightsim data (DRJ)\n",
    "4. Create functions, piper_pos_plot and piper_or_plot, that plot position (3 plots on 1 page), orientation (course) for piper data (TMB)"
   ]
  },
  {
   "cell_type": "code",
   "execution_count": null,
   "metadata": {},
   "outputs": [],
   "source": [
    "#pd.plotting.deregister_matplotlib_converters()\n",
    "plt.plot(flightsim_table.Timestamp)\n"
   ]
  },
  {
   "cell_type": "code",
   "execution_count": null,
   "metadata": {},
   "outputs": [],
   "source": [
    "#pd.plotting.register_matplotlib_converters() # needed for matplotlib-pandas bug\n",
    "plt.plot(piper_table.Timestamp)"
   ]
  },
  {
   "cell_type": "code",
   "execution_count": null,
   "metadata": {},
   "outputs": [],
   "source": [
    "def flightsim_check(flightsim_data):\n",
    "    '''reports info about the quality of the data '''\n",
    "    flightsim_data_mod = flightsim_data.copy()\n",
    "\n",
    "    #flightsim_data_mod['timeDelta']=flightsim_data_mod.Timestamp-flightsim_data_mod.Timestamp.shift(1)\n",
    "    print(flightsim_data_mod.timeDelta.describe())\n",
    "    print()\n",
    "    # checks and reports data type but doesn't recognize them as float64 even though the dtypes command lists them as float64\n",
    "    for i in range(len(flightsim_data_mod.axes[1])-1):\n",
    "        if flightsim_data_mod.dtypes[i]=='float64':\n",
    "            print('data type is', flightsim_data_mod.dtypes[i])\n",
    "        elif flightsim_data_mod.dtypes[i]=='datetime64[ns]':\n",
    "            print('data type is',flightsim_data_mod.dtypes[i])\n",
    "        else:\n",
    "            print('incorrect data type',flightsim_data_mod.dtypes[i])\n",
    "    \n",
    "    print(flightsim_data_mod.head(7))\n",
    "    return flightsim_data_mod\n",
    "    \n",
    "    #check for and replace missing data with nan       \n",
    "    #flightsim_data = flightsim_data.replace(0, np.NaN)\n",
    "    "
   ]
  },
  {
   "cell_type": "code",
   "execution_count": null,
   "metadata": {},
   "outputs": [],
   "source": [
    "flightsim_check(flightsim_table)"
   ]
  },
  {
   "cell_type": "code",
   "execution_count": null,
   "metadata": {},
   "outputs": [],
   "source": [
    "def flightsim_pos_plot(flightsim_data):\n",
    "    '''plots position for altitude, longitude and latitude for flight simulation csv data'''\n",
    "    plt.figure(figsize=(8,6))\n",
    "    plt.title('Lat Lon and Alt time aligned')\n",
    "    plt.subplot(311)\n",
    "    plt.plot(flightsim_data.Time_Serial,flightsim_data.Altitude)\n",
    "    plt.ylabel('Altitude')\n",
    "    plt.subplot(312)\n",
    "    plt.plot(flightsim_data.Time_Serial,flightsim_data.Longitude)\n",
    "    plt.ylabel('Longitude')\n",
    "    plt.subplot(313)\n",
    "    plt.plot(flightsim_data.Timestamp,flightsim_data.Altitude)\n",
    "    plt.ylabel('Latitude')\n",
    "    plt.show()"
   ]
  },
  {
   "cell_type": "code",
   "execution_count": null,
   "metadata": {},
   "outputs": [],
   "source": [
    "flightsim_pos_plot(flightsim_table)"
   ]
  },
  {
   "cell_type": "code",
   "execution_count": null,
   "metadata": {},
   "outputs": [],
   "source": [
    "def flightsim_ori_plot(flightsim_data):\n",
    "    '''plots orientation for heading, roll and pitch for flight simulation csv data'''\n",
    "    plt.figure(figsize=(8,6))\n",
    "    plt.title('Heading Roll and Pitch time aligned')\n",
    "    plt.subplot(311)\n",
    "    plt.plot(flightsim_data.Time_Serial,flightsim_data.Heading)\n",
    "    plt.ylabel('Heading')\n",
    "    plt.subplot(312)\n",
    "    plt.plot(flightsim_data.Time_Serial,flightsim_data.Roll)\n",
    "    plt.ylabel('Roll')\n",
    "    plt.subplot(313)\n",
    "    plt.plot(flightsim_data.Timestamp,flightsim_data.Pitch)\n",
    "    plt.ylabel('Pitch')\n",
    "    plt.show()"
   ]
  },
  {
   "cell_type": "code",
   "execution_count": null,
   "metadata": {},
   "outputs": [],
   "source": [
    "flightsim_ori_plot(flightsim_table)"
   ]
  },
  {
   "cell_type": "code",
   "execution_count": null,
   "metadata": {},
   "outputs": [],
   "source": [
    "#pd.plotting.deregister_matplotlib_converters()\n",
    "plt.plot(flightsim_table.Time)"
   ]
  },
  {
   "cell_type": "code",
   "execution_count": null,
   "metadata": {},
   "outputs": [],
   "source": [
    "#pd.plotting.register_matplotlib_converters() # needed for matplotlib-pandas bug\n",
    "plt.plot(piper_table.Timestamp)"
   ]
  },
  {
   "cell_type": "code",
   "execution_count": null,
   "metadata": {},
   "outputs": [],
   "source": [
    "# 2\n",
    "# what to check: proper data types, describe function\n",
    "def piper_check(data):\n",
    "    '''Returns any issues dicovered in the data types, \n",
    "    timing, missing data, and vertical speed if found,\n",
    "    returns a statement that the data is valid if no \n",
    "    problems found.'''\n",
    "    #checking proper data types\n",
    "    type1 = (data.Latitude.dtypes == 'float64')\n",
    "    type2 = (data.Longitude.dtypes == 'float64')\n",
    "    type3 = (data.Course.dtypes == 'float64')\n",
    "    type4 = (data.Altitude.dtypes == 'float64')\n",
    "    type5 = (data.Speed.dtypes == 'float64')\n",
    "    type6 = (data.Timestamp.dtypes == 'datetime64[ns, UTC]')\n",
    "    if not(type1 and type2 and type3 and type4 and type5 and type6):\n",
    "        return print('Data is not valid, invalid data type')\n",
    "    \n",
    "    #checking to see if there are any significant breaks in time\n",
    "    check_Gaps = 0\n",
    "    piper_time_diff =[]\n",
    "    for i in range(len(data.Timestamp)-1):\n",
    "        piper_time_diff.append(pd.to_timedelta(piper_table.Timestamp[i+1] - piper_table.Timestamp[i]).total_seconds())\n",
    "    \n",
    "    index = 0\n",
    "    piper_time_stdv = np.std(piper_time_diff)\n",
    "    for check_Step in piper_time_diff:\n",
    "        if (check_Step < 0) or (check_Step >= 2*piper_time_stdv):  #identify specific reason for gap size\n",
    "            check_Gaps = check_Gaps + 1\n",
    "            print('Warning, data has significant time gap of', check_Step, 'seconds at', data.Timestamp[index])\n",
    "        index = index + 1\n",
    "    \n",
    "    if 'NaN' in data:\n",
    "        print('Missing data, NaN is present')\n",
    "    \n",
    "    max_Vertical_Speed = 0\n",
    "    for i in range(len(data.Altitude)-1):\n",
    "        altitude_Diff = data.Altitude[i+1] - data.Altitude[i]\n",
    "        alt_diff_time = piper_time_diff[i]\n",
    "        vertical_speed = altitude_Diff / alt_diff_time\n",
    "        if abs(vertical_speed) > max_Vertical_Speed:\n",
    "            max_Vertical_Speed = vertical_speed\n",
    "    print('The maximum vertical speed from one point in time to another is', max_Vertical_Speed, 'ft/s')\n",
    "    \n",
    "    if check_Gaps != 0:\n",
    "        return\n",
    "    return print('Data is valid')\n",
    "\n",
    "# for check in\n",
    "piper_check(piper_table)"
   ]
  },
  {
   "cell_type": "code",
   "execution_count": null,
   "metadata": {},
   "outputs": [],
   "source": [
    "def piper_pos_plot(data):\n",
    "    timeList = []\n",
    "    \n",
    "    for i in range(len(data.Timestamp)):\n",
    "        timeList.append(data.Timestamp[i].to_pydatetime())\n",
    "        \n",
    "    fig, (ax1, ax2, ax3) = plt.subplots(3, sharex=True)\n",
    "    fig.set_size_inches(18.5, 10.5)\n",
    "    fig.suptitle('Latitude, Longitude, and Altitude vs Time')\n",
    "    ax1.plot(timeList,data.Latitude)\n",
    "    ax1.set_ylabel('Latitude (°)')\n",
    "    ax2.plot(timeList,data.Longitude)\n",
    "    ax2.set_ylabel('Longitude (°)')\n",
    "    ax3.plot(timeList,data.Altitude)\n",
    "    ax3.set_xlabel('Timestamp')\n",
    "    ax3.set_ylabel('Altitude (ft)')\n",
    "    plt.show()\n",
    "\n",
    "\n",
    "piper_pos_plot(piper_table)"
   ]
  },
  {
   "cell_type": "code",
   "execution_count": null,
   "metadata": {},
   "outputs": [],
   "source": [
    "def piper_or_plot(data):\n",
    "    timeList = []\n",
    "    \n",
    "    for i in range(len(data.Timestamp)):\n",
    "        timeList.append(data.Timestamp[i].to_pydatetime())\n",
    "        \n",
    "    fig, ax = plt.subplots()\n",
    "    fig.set_size_inches(18.5, 10.5)\n",
    "    ax.plot(timeList,data.Course)\n",
    "    ax.set_xlabel('Timestamp')\n",
    "    ax.set_ylabel('Course (°N)')\n",
    "    fig.suptitle('Course over Time')\n",
    "    plt.show()\n",
    "\n",
    "piper_or_plot(piper_table)"
   ]
  },
  {
   "cell_type": "markdown",
   "metadata": {},
   "source": [
    "## Process Data\n",
    "\n",
    "For consistent (i.e. format doesn't change) files you read in, it may be useful to create functions to process the files, add derived parameters, and do other standard transformations. In this case, we'll separate the read functions from the processing functions.\n",
    "\n",
    "Questions/Checks:\n",
    "1. What is the purpose of this function definition?\n",
    "2. What happens if we don't use .copy()?\n",
    "3. Why would we want this behavior?\n",
    "4. Read through the code and comment on anything notable\n",
    "\n",
    "To do:\n",
    "1. Add similar calculations for velocity, other derivatives. Add documentation and docstring (TMB)\n",
    "2. Create a process_piper_data function that calculates derived parameters. Add documentation and docstring (DRJ)\n"
   ]
  },
  {
   "cell_type": "code",
   "execution_count": null,
   "metadata": {},
   "outputs": [],
   "source": [
    "ts_diff = []\n",
    "lat_diff = []\n",
    "long_diff = []\n",
    "alt_diff = []\n",
    "orient_diff = []\n",
    "lat_vel = []\n",
    "long_vel = []\n",
    "alt_vel = []\n",
    "orient_vel = []\n",
    "\n",
    "\n",
    "for i in range(len(piper_table) - 1):\n",
    "    # time difference\n",
    "    timedelta = pd.to_timedelta(piper_table.Timestamp[i+1] - piper_table.Timestamp[i]).total_seconds()\n",
    "    ts_diff.append(timedelta)\n",
    "    \n",
    "    # position difference\n",
    "    lat_diff.append(piper_table.Latitude[i+1] - piper_table.Latitude[i])\n",
    "    long_diff.append(piper_table.Longitude[i+1] - piper_table.Longitude[i])\n",
    "    alt_diff.append(piper_table.Altitude[i+1] - piper_table.Altitude[i])\n",
    "    orient_diff.append(piper_table.Course[i+1] - piper_table.Course[i])\n",
    "\n",
    "    \n",
    "for i in range(len(ts_diff)):\n",
    "    # velocity\n",
    "    lat_vel.append(lat_diff[i] / ts_diff[i])\n",
    "    long_vel.append(long_diff[i] / ts_diff[i])\n",
    "    alt_vel.append(alt_diff[i] / ts_diff[i])\n",
    "    orient_vel.append(orient_diff[i] / ts_diff[i])\n",
    "\n",
    "\n",
    "lat_vel.append('NaN')\n",
    "piper_table.insert(6,\"Latitude_Velocity\", lat_vel)\n",
    "long_vel.append('NaN')\n",
    "piper_table.insert(7,\"Longitude_Velocity\", long_vel)\n",
    "alt_vel.append('NaN')\n",
    "piper_table.insert(8,\"Altitude_Velocity\", alt_vel)\n",
    "orient_vel.append('NaN')\n",
    "piper_table.insert(9,\"Course_Velocity\", orient_vel)\n",
    "\n",
    "# speed in direction of motion & 2-d plot"
   ]
  },
  {
   "cell_type": "code",
   "execution_count": null,
   "metadata": {},
   "outputs": [],
   "source": [
    "def piper_vel_plot(data):\n",
    "    timeList = []\n",
    "    \n",
    "    for i in range(len(data.Timestamp)):\n",
    "        timeList.append(data.Timestamp[i].to_pydatetime())\n",
    "        \n",
    "    fig, (ax1, ax2, ax3) = plt.subplots(3, sharex=True)\n",
    "    fig.set_size_inches(18.5, 10.5)\n",
    "    fig.suptitle('Velocity of Latitude, Longitude, and Altitude vs Time')\n",
    "    ax1.plot(timeList,data.Latitude_Velocity)\n",
    "    ax1.set_ylabel('Latitude Velocity (°/sec)')\n",
    "    ax2.plot(timeList,data.Longitude_Velocity)\n",
    "    ax2.set_ylabel('Longitude Velocity (°/sec)')\n",
    "    ax3.plot(timeList,data.Altitude_Velocity)\n",
    "    ax3.set_xlabel('Timestamp')\n",
    "    ax3.set_ylabel('Altitude Velocity (ft/sec)')\n",
    "    plt.show()\n",
    "\n",
    "piper_vel_plot(piper_table)"
   ]
  },
  {
   "cell_type": "code",
   "execution_count": null,
   "metadata": {},
   "outputs": [],
   "source": [
    "ts_diff_vel = ts_diff\n",
    "lat_diff_vel = 0\n",
    "long_diff_vel = 0\n",
    "alt_diff_vel = 0\n",
    "orient_diff_vel = 0\n",
    "lat_accel = []\n",
    "long_accel = []\n",
    "alt_accel = []\n",
    "orient_accel = []\n",
    "\n",
    "\n",
    "for i in range(len(ts_diff_vel) - 1):\n",
    "    # velocity difference\n",
    "    lat_diff_vel = piper_table.Latitude_Velocity[i+1] - piper_table.Latitude_Velocity[i]\n",
    "    long_diff_vel = piper_table.Longitude_Velocity[i+1] - piper_table.Longitude_Velocity[i]\n",
    "    alt_diff_vel = piper_table.Altitude_Velocity[i+1] - piper_table.Altitude_Velocity[i]\n",
    "    orient_diff_vel = piper_table.Course_Velocity[i+1] - piper_table.Course_Velocity[i]\n",
    "    \n",
    "    # acceleration\n",
    "    lat_accel.append(lat_diff_vel / ts_diff_vel[i])\n",
    "    long_accel.append(long_diff_vel / ts_diff_vel[i])\n",
    "    alt_accel.append(alt_diff_vel / ts_diff_vel[i])\n",
    "    orient_accel.append(orient_diff_vel / ts_diff_vel[i])\n",
    "\n",
    "\n",
    "lat_accel.append('NaN')\n",
    "lat_accel.append('NaN')\n",
    "piper_table.insert(10,\"Latitude_Acceleration\", lat_accel)\n",
    "long_accel.append('NaN')\n",
    "long_accel.append('NaN')\n",
    "piper_table.insert(11,\"Longitude_Acceleration\", long_accel)\n",
    "alt_accel.append('NaN')\n",
    "alt_accel.append('NaN')\n",
    "piper_table.insert(12,\"Altitude_Acceleration\", alt_accel)\n",
    "orient_accel.append('NaN')\n",
    "orient_accel.append('NaN')\n",
    "piper_table.insert(13,\"Course_Acceleration\", orient_accel)"
   ]
  },
  {
   "cell_type": "code",
   "execution_count": null,
   "metadata": {},
   "outputs": [],
   "source": [
    "def piper_accel_plot(data):\n",
    "    timeList = []\n",
    "    \n",
    "    for i in range(len(data.Timestamp)):\n",
    "        timeList.append(data.Timestamp[i].to_pydatetime())\n",
    "        \n",
    "    fig, (ax1, ax2, ax3) = plt.subplots(3, sharex=True)\n",
    "    fig.set_size_inches(18.5, 10.5)\n",
    "    fig.suptitle('Acceleration of Latitude, Longitude, and Altitude vs Time')\n",
    "    ax1.plot(timeList,data.Latitude_Acceleration)\n",
    "    ax1.set_ylabel('Latitude Acceleration (°/sec^2)')\n",
    "    ax2.plot(timeList,data.Longitude_Acceleration)\n",
    "    ax2.set_ylabel('Longitude Acceleration (°/sec^2)')\n",
    "    ax3.plot(timeList,data.Altitude_Acceleration)\n",
    "    ax3.set_xlabel('Timestamp')\n",
    "    ax3.set_ylabel('Altitude Velocity (ft/sec^2)')\n",
    "    plt.show()\n",
    "\n",
    "piper_accel_plot(piper_table)"
   ]
  },
  {
   "cell_type": "code",
   "execution_count": null,
   "metadata": {},
   "outputs": [],
   "source": [
    "#1\n",
    "def process_flightsim_data(flightsim_data):\n",
    "    '''Returns a pandas dataframe with all the data from the the flight\n",
    "    dataframe and the speeds and accelerations of altitude, longitude,\n",
    "    latitude, roll, pitch, and heading'''\n",
    "    flightsim_modded = flightsim_data.copy() #copies data, used to prevent multiple copies of same data if code used multiple times\n",
    "    \n",
    "    #adds new columns containing speeds\n",
    "    flightsim_modded['VerticalSpeed'] = (flightsim_data.Altitude - flightsim_data.Altitude.shift(1))/(flightsim_data.Time - flightsim_data.Time.shift(1))\n",
    "    flightsim_modded['LongitudeSpeed'] = (flightsim_data.Longitude - flightsim_data.Longitude.shift(1))/(flightsim_data.Time - flightsim_data.Time.shift(1))\n",
    "    flightsim_modded['LatitudeSpeed'] = (flightsim_data.Latitude - flightsim_data.Latitude.shift(1))/(flightsim_data.Time - flightsim_data.Time.shift(1))\n",
    "    flightsim_modded['RollSpeed'] = (flightsim_data.Roll - flightsim_data.Roll.shift(1))/(flightsim_data.Time - flightsim_data.Time.shift(1))\n",
    "    flightsim_modded['PitchSpeed'] = (flightsim_data.Pitch - flightsim_data.Pitch.shift(1))/(flightsim_data.Time - flightsim_data.Time.shift(1))\n",
    "    flightsim_modded['HeadingSpeed'] = (flightsim_data.Heading - flightsim_data.Heading.shift(1))/(flightsim_data.Time - flightsim_data.Time.shift(1))\n",
    "    #adds new columns containing accelerations, uses flightsim_modded because speed isn't present in flight_simdata\n",
    "    flightsim_modded['VerticalAcceleration'] = (flightsim_modded.VerticalSpeed - flightsim_modded.VerticalSpeed.shift(1))/(flightsim_data.Time - flightsim_data.Time.shift(1))\n",
    "    flightsim_modded['LongitudeAcceleration'] = (flightsim_modded.LongitudeSpeed - flightsim_modded.LongitudeSpeed.shift(1))/(flightsim_data.Time - flightsim_data.Time.shift(1))\n",
    "    flightsim_modded['LatitudeAcceleration'] = (flightsim_modded.LatitudeSpeed - flightsim_modded.LatitudeSpeed.shift(1))/(flightsim_data.Time - flightsim_data.Time.shift(1))\n",
    "    flightsim_modded['RollAcceleration'] = (flightsim_modded.RollSpeed - flightsim_modded.RollSpeed.shift(1))/(flightsim_data.Time - flightsim_data.Time.shift(1))\n",
    "    flightsim_modded['PitchAcceleration'] = (flightsim_modded.PitchSpeed - flightsim_modded.PitchSpeed.shift(1))/(flightsim_data.Time - flightsim_data.Time.shift(1))\n",
    "    flightsim_modded['HeadingAcceleration'] = (flightsim_modded.HeadingSpeed - flightsim_modded.HeadingSpeed.shift(1))/(flightsim_data.Time - flightsim_data.Time.shift(1))\n",
    "    return flightsim_modded\n",
    "\n",
    "flightsim_mod = process_flightsim_data(flightsim_table)\n",
    "#flightsim_mod.head(20)\n",
    "#flightsim_table.head(10)"
   ]
  },
  {
   "cell_type": "code",
   "execution_count": null,
   "metadata": {},
   "outputs": [],
   "source": [
    "def flightsim_vel_plot(data):\n",
    "    '''Takes in the data and generates the velocity plots of latitude,\n",
    "    longitude, and altitude, requires latitude, longitude, altitude and \n",
    "    time to be in a pandas dataframe, with the columns labeled Latitude, \n",
    "    Longitude, Altitude, and Time respectively'''\n",
    "    \n",
    "    # gets the velocity data\n",
    "    vel_data = process_flightsim_data(data)\n",
    "    \n",
    "    # plots the velocity data\n",
    "    fig, (ax1, ax2, ax3) = plt.subplots(3, sharex=True)\n",
    "    fig.set_size_inches(18.5, 10.5)\n",
    "    fig.suptitle('Velocity of Latitude, Longitude, and Altitude vs Time')\n",
    "    ax1.plot(vel_data.Time,vel_data.LatitudeSpeed)\n",
    "    ax1.set_ylabel('Latitude Velocity (°)')\n",
    "    ax2.plot(vel_data.Time,vel_data.LongitudeSpeed)\n",
    "    ax2.set_ylabel('Longitude Velocity (°)')\n",
    "    ax3.plot(vel_data.Time,vel_data.VerticalSpeed)\n",
    "    ax3.set_xlabel('Time')\n",
    "    ax3.set_ylabel('Altitude Velocity (ft)')\n",
    "    plt.show()\n",
    "\n",
    "\n",
    "flightsim_vel_plot(flightsim_mod)"
   ]
  },
  {
   "cell_type": "code",
   "execution_count": null,
   "metadata": {},
   "outputs": [],
   "source": [
    "def flightsim_accel_plot(data):\n",
    "    '''Takes in the data and generates the acceleration plots of latitude, \n",
    "    longitude, and altitude, requires latitude, longitude, altitude and \n",
    "    time to be in a pandas dataframe, with the columns labeled Latitude, \n",
    "    Longitude, Altitude, and Time respectively'''\n",
    "    \n",
    "    # gets acceleration data\n",
    "    accel_data = process_flightsim_data(data)\n",
    "    \n",
    "    # plots the acceleration data\n",
    "    fig, (ax1, ax2, ax3) = plt.subplots(3, sharex=True)\n",
    "    fig.set_size_inches(18.5, 10.5)\n",
    "    fig.suptitle('Acceleration of Latitude, Longitude, and Altitude vs Time')\n",
    "    ax1.plot(accel_data.Time,accel_data.LatitudeAcceleration)\n",
    "    ax1.set_ylabel('Latitude Acceleration (°)')\n",
    "    ax2.plot(accel_data.Time,accel_data.LongitudeAcceleration)\n",
    "    ax2.set_ylabel('Longitude Acceleration (°)')\n",
    "    ax3.plot(accel_data.Time,accel_data.VerticalAcceleration)\n",
    "    ax3.set_xlabel('Time')\n",
    "    ax3.set_ylabel('Altitude Acceleration (ft)')\n",
    "    plt.show()\n",
    "\n",
    "\n",
    "flightsim_accel_plot(flightsim_mod)"
   ]
  },
  {
   "cell_type": "code",
   "execution_count": null,
   "metadata": {},
   "outputs": [],
   "source": [
    "def process_piper_data(piper_data):\n",
    "    ''' work in progress function: derives parameters from piper flight data'''\n",
    "    piper_data_mod = piper_data.copy()\n",
    "    for i in range(len(piper_data)-1):\n",
    "        timeDiff = pd.to_timedelta(piper_data_mod.Timestamp[i+1]-piper_data_mod.Timestamp[i]).total_seconds()\n",
    "    piper_data_mod['TimeDelta']= timeDiff\n",
    "    \n",
    "    altitudeDiff = piper_data_mod.Altitude-piper_data_mod.Altitude.shift(1)  \n",
    "    vertSpeedDiff = altitudeDiff-altitudeDiff.shift(1)\n",
    "    latitudeDiff = piper_data_mod.Latitude-piper_data_mod.Latitude.shift(1)\n",
    "    latSpeedDiff = latitudeDiff-latitudeDiff.shift(1)\n",
    "    longitudeDiff = piper_data_mod.Longitude-piper_data_mod.Longitude.shift(1)\n",
    "    longSpeedDiff = longitudeDiff-longitudeDiff.shift(1)\n",
    "    \n",
    "\n",
    "    piper_data_mod['VerticalSpeed'] = altitudeDiff/piper_data_mod.TimeDelta\n",
    "    piper_data_mod['VerticalAcceleration'] = vertSpeedDiff/piper_data_mod.TimeDelta\n",
    "    piper_data_mod['LateralSpeed'] = latitudeDiff/piper_data_mod.TimeDelta\n",
    "    piper_data_mod['LateralAcceleration'] = latSpeedDiff/piper_data_mod.TimeDelta\n",
    "    piper_data_mod['LongitudalSpeed'] = longitudeDiff/piper_data_mod.TimeDelta\n",
    "    piper_data_mod['LongitudalAcceleration'] = longSpeedDiff/piper_data_mod.TimeDelta\n",
    "#     piper_data_mod['MagnitudeVelocity3D'] = math.sqrt((piper_data_mod.VerticalSpeed**2)+\\\n",
    "#                                                  (piper_data_mod.LateralSpeed**2)+\\\n",
    "#                                                  (piper_data_mod.LongitudalSpeed**2))\n",
    "    \n",
    "    print(piper_data_mod.head(10))\n",
    "    return(piper_data_mod)\n",
    "    timeSpan = piper_data_mod.Timestamp[61141]-piper_data_mod.Timestamp[1]\n",
    "    frequency = timeSpan/61141\n",
    "    \n",
    "    print()\n",
    "    print('FLight Duration:',timeSpan)\n",
    "    print('Average Frequency:',frequency)"
   ]
  },
  {
   "cell_type": "code",
   "execution_count": null,
   "metadata": {},
   "outputs": [],
   "source": [
    "process_piper_data(piper_table)"
   ]
  },
  {
   "cell_type": "markdown",
   "metadata": {},
   "source": [
    "End of usable code"
   ]
  },
  {
   "cell_type": "code",
   "execution_count": null,
   "metadata": {},
   "outputs": [],
   "source": [
    "#csv_df = pd.DataFrame(flightsim_table, columns=['Time', 'Longitude', 'Latitude'])\n",
    "flightsim_table.set_index('Time')\n",
    "flightsim_table.head(5)\n",
    "flightsim_table.plot('Time', 'Longitude')\n"
   ]
  },
  {
   "cell_type": "code",
   "execution_count": null,
   "metadata": {},
   "outputs": [],
   "source": [
    "json_table['Timestamp']\n",
    "df = pd.DataFrame(json_table, columns = ['Timestamp', 'Speed'])\n",
    "df.set_index(\"Timestamp\")\n",
    "print(df)\n",
    "print(json_table.dtypes)\n",
    "df.plot('Timestamp','Speed')\n",
    "\n",
    "\n",
    "pd.plotting.register_matplotlib_converters() # needed for matplotlib-pandas bug\n",
    "\n",
    "plt.plot(json_table.Timestamp, json_table.Altitude)"
   ]
  },
  {
   "cell_type": "code",
   "execution_count": null,
   "metadata": {},
   "outputs": [],
   "source": [
    "fig, ax = plt.subplots(figsize=(10,10))\n",
    "pd.plotting.deregister_matplotlib_converters()\n",
    "ax.plot(df['Timestamp'],               \n",
    "       color='purple')\n",
    "\n",
    "ax.set(xlabel='Time',\n",
    "      ylabel='Speed',\n",
    "      title='test')"
   ]
  },
  {
   "cell_type": "code",
   "execution_count": null,
   "metadata": {},
   "outputs": [],
   "source": []
  },
  {
   "cell_type": "code",
   "execution_count": null,
   "metadata": {},
   "outputs": [],
   "source": []
  },
  {
   "cell_type": "code",
   "execution_count": null,
   "metadata": {},
   "outputs": [],
   "source": []
  }
 ],
 "metadata": {
  "kernelspec": {
   "display_name": "Python 3",
   "language": "python",
   "name": "python3"
  },
  "language_info": {
   "codemirror_mode": {
    "name": "ipython",
    "version": 3
   },
   "file_extension": ".py",
   "mimetype": "text/x-python",
   "name": "python",
   "nbconvert_exporter": "python",
   "pygments_lexer": "ipython3",
   "version": "3.7.6"
  }
 },
 "nbformat": 4,
 "nbformat_minor": 4
}
