{
 "cells": [
  {
   "cell_type": "code",
   "execution_count": 2,
   "metadata": {},
   "outputs": [],
   "source": [
    "%matplotlib qt\n",
    "from mpl_toolkits.mplot3d import axes3d\n",
    "from mpl_toolkits.basemap import Basemap\n",
    "import pandas as pd\n",
    "import matplotlib as mpl\n",
    "import matplotlib.pyplot as plt\n",
    "import numpy as np\n",
    "from matplotlib import style"
   ]
  },
  {
   "cell_type": "code",
   "execution_count": 27,
   "metadata": {},
   "outputs": [],
   "source": [
    "csvData = pd.read_csv(\"C:/Users/Daniel/OneDrive/Documents/OneDrive/Documents/Python Scripts/WFH documents/sample_flight_sim.csv\")\n",
    "jsonData = pd.read_json('C:/Users/Daniel/OneDrive/Documents/OneDrive/Documents/Python Scripts/WFH documents/n4023f_stamprun.json');"
   ]
  },
  {
   "cell_type": "code",
   "execution_count": 36,
   "metadata": {},
   "outputs": [
    {
     "data": {
      "text/html": [
       "<div>\n",
       "<style scoped>\n",
       "    .dataframe tbody tr th:only-of-type {\n",
       "        vertical-align: middle;\n",
       "    }\n",
       "\n",
       "    .dataframe tbody tr th {\n",
       "        vertical-align: top;\n",
       "    }\n",
       "\n",
       "    .dataframe thead th {\n",
       "        text-align: right;\n",
       "    }\n",
       "</style>\n",
       "<table border=\"1\" class=\"dataframe\">\n",
       "  <thead>\n",
       "    <tr style=\"text-align: right;\">\n",
       "      <th></th>\n",
       "      <th>Time</th>\n",
       "      <th>Longitude</th>\n",
       "      <th>Latitude</th>\n",
       "      <th>Altitude</th>\n",
       "      <th>Roll</th>\n",
       "      <th>Pitch</th>\n",
       "      <th>Heading</th>\n",
       "    </tr>\n",
       "  </thead>\n",
       "  <tbody>\n",
       "    <tr>\n",
       "      <th>0</th>\n",
       "      <td>56.1667</td>\n",
       "      <td>-157.943156</td>\n",
       "      <td>21.325247</td>\n",
       "      <td>23.924636</td>\n",
       "      <td>-0.050059</td>\n",
       "      <td>-0.231505</td>\n",
       "      <td>89.869063</td>\n",
       "    </tr>\n",
       "    <tr>\n",
       "      <th>1</th>\n",
       "      <td>57.1667</td>\n",
       "      <td>-157.943156</td>\n",
       "      <td>21.325247</td>\n",
       "      <td>23.924636</td>\n",
       "      <td>-0.050059</td>\n",
       "      <td>-0.231505</td>\n",
       "      <td>89.869063</td>\n",
       "    </tr>\n",
       "    <tr>\n",
       "      <th>2</th>\n",
       "      <td>58.1667</td>\n",
       "      <td>-157.943156</td>\n",
       "      <td>21.325247</td>\n",
       "      <td>23.924636</td>\n",
       "      <td>-0.050059</td>\n",
       "      <td>-0.231505</td>\n",
       "      <td>89.869063</td>\n",
       "    </tr>\n",
       "  </tbody>\n",
       "</table>\n",
       "</div>"
      ],
      "text/plain": [
       "      Time   Longitude   Latitude   Altitude      Roll     Pitch    Heading\n",
       "0  56.1667 -157.943156  21.325247  23.924636 -0.050059 -0.231505  89.869063\n",
       "1  57.1667 -157.943156  21.325247  23.924636 -0.050059 -0.231505  89.869063\n",
       "2  58.1667 -157.943156  21.325247  23.924636 -0.050059 -0.231505  89.869063"
      ]
     },
     "execution_count": 36,
     "metadata": {},
     "output_type": "execute_result"
    }
   ],
   "source": [
    "csvData.head(3)"
   ]
  },
  {
   "cell_type": "code",
   "execution_count": 9,
   "metadata": {},
   "outputs": [
    {
     "data": {
      "text/html": [
       "<div>\n",
       "<style scoped>\n",
       "    .dataframe tbody tr th:only-of-type {\n",
       "        vertical-align: middle;\n",
       "    }\n",
       "\n",
       "    .dataframe tbody tr th {\n",
       "        vertical-align: top;\n",
       "    }\n",
       "\n",
       "    .dataframe thead th {\n",
       "        text-align: right;\n",
       "    }\n",
       "</style>\n",
       "<table border=\"1\" class=\"dataframe\">\n",
       "  <thead>\n",
       "    <tr style=\"text-align: right;\">\n",
       "      <th></th>\n",
       "      <th>Altitude</th>\n",
       "      <th>Course</th>\n",
       "      <th>Latitude</th>\n",
       "      <th>Longitude</th>\n",
       "      <th>Speed</th>\n",
       "      <th>Timestamp</th>\n",
       "    </tr>\n",
       "  </thead>\n",
       "  <tbody>\n",
       "    <tr>\n",
       "      <th>0</th>\n",
       "      <td>136.811028</td>\n",
       "      <td>0.0</td>\n",
       "      <td>38.315401</td>\n",
       "      <td>-76.553887</td>\n",
       "      <td>0.000000</td>\n",
       "      <td>2020-02-15 17:23:39.164</td>\n",
       "    </tr>\n",
       "    <tr>\n",
       "      <th>1</th>\n",
       "      <td>136.811028</td>\n",
       "      <td>336.2</td>\n",
       "      <td>38.315401</td>\n",
       "      <td>-76.553887</td>\n",
       "      <td>3.599989</td>\n",
       "      <td>2020-02-15 17:23:39.168</td>\n",
       "    </tr>\n",
       "    <tr>\n",
       "      <th>2</th>\n",
       "      <td>136.811028</td>\n",
       "      <td>336.2</td>\n",
       "      <td>38.315401</td>\n",
       "      <td>-76.553887</td>\n",
       "      <td>3.599989</td>\n",
       "      <td>2020-02-15 17:23:39.366</td>\n",
       "    </tr>\n",
       "  </tbody>\n",
       "</table>\n",
       "</div>"
      ],
      "text/plain": [
       "     Altitude  Course   Latitude  Longitude     Speed               Timestamp\n",
       "0  136.811028     0.0  38.315401 -76.553887  0.000000 2020-02-15 17:23:39.164\n",
       "1  136.811028   336.2  38.315401 -76.553887  3.599989 2020-02-15 17:23:39.168\n",
       "2  136.811028   336.2  38.315401 -76.553887  3.599989 2020-02-15 17:23:39.366"
      ]
     },
     "execution_count": 9,
     "metadata": {},
     "output_type": "execute_result"
    }
   ],
   "source": [
    "jsonData.head(3)"
   ]
  },
  {
   "cell_type": "code",
   "execution_count": 17,
   "metadata": {},
   "outputs": [],
   "source": [
    "plt.figure()\n",
    "plt.subplot(311)\n",
    "plt.plot(csvData.Time,csvData.Altitude)\n",
    "plt.ylabel('Altitude')\n",
    "plt.subplot(312)\n",
    "plt.plot(csvData.Time,csvData.Latitude)\n",
    "plt.ylabel('Latitude')\n",
    "plt.subplot(313)\n",
    "plt.plot(csvData.Time,csvData.Longitude)\n",
    "plt.ylabel('Longitude');"
   ]
  },
  {
   "cell_type": "code",
   "execution_count": 14,
   "metadata": {},
   "outputs": [],
   "source": [
    "plt.figure()\n",
    "NAmap = Basemap(projection = 'merc',lat_0 = 38,lon_0 = -76.5,\n",
    "                resolution = 'h',area_thresh = 0.1,\n",
    "               llcrnrlon = -78,llcrnrlat = 36.5,\n",
    "               urcrnrlon = -75,urcrnrlat = 39.5)\n",
    "NAmap.drawcoastlines()\n",
    "NAmap.drawstates()\n",
    "NAmap.drawmapboundary(fill_color = 'aqua')\n",
    "NAmap.fillcontinents(color = 'coral',lake_color = 'aqua');\n"
   ]
  },
  {
   "cell_type": "code",
   "execution_count": 19,
   "metadata": {},
   "outputs": [
    {
     "data": {
      "text/plain": [
       "[<matplotlib.lines.Line2D at 0x21050c75d68>]"
      ]
     },
     "execution_count": 19,
     "metadata": {},
     "output_type": "execute_result"
    }
   ],
   "source": [
    "plt.figure()\n",
    "plt.plot(csvData.Longitude,csvData.Latitude)"
   ]
  },
  {
   "cell_type": "code",
   "execution_count": 38,
   "metadata": {},
   "outputs": [
    {
     "ename": "TypeError",
     "evalue": "'float' object is not iterable",
     "output_type": "error",
     "traceback": [
      "\u001b[1;31m---------------------------------------------------------------------------\u001b[0m",
      "\u001b[1;31mTypeError\u001b[0m                                 Traceback (most recent call last)",
      "\u001b[1;32m<ipython-input-38-730f6c5943bd>\u001b[0m in \u001b[0;36m<module>\u001b[1;34m()\u001b[0m\n\u001b[0;32m     10\u001b[0m \u001b[0mNAmap\u001b[0m\u001b[1;33m.\u001b[0m\u001b[0mfillcontinents\u001b[0m\u001b[1;33m(\u001b[0m\u001b[0mcolor\u001b[0m \u001b[1;33m=\u001b[0m \u001b[1;34m'coral'\u001b[0m\u001b[1;33m,\u001b[0m\u001b[0mlake_color\u001b[0m \u001b[1;33m=\u001b[0m \u001b[1;34m'aqua'\u001b[0m\u001b[1;33m)\u001b[0m\u001b[1;33m;\u001b[0m\u001b[1;33m\u001b[0m\u001b[0m\n\u001b[0;32m     11\u001b[0m \u001b[1;33m\u001b[0m\u001b[0m\n\u001b[1;32m---> 12\u001b[1;33m \u001b[0mx\u001b[0m\u001b[1;33m,\u001b[0m\u001b[0my\u001b[0m \u001b[1;33m=\u001b[0m \u001b[0mmap\u001b[0m\u001b[1;33m(\u001b[0m\u001b[1;36m21.5\u001b[0m\u001b[1;33m,\u001b[0m\u001b[1;33m-\u001b[0m\u001b[1;36m157.5\u001b[0m\u001b[1;33m)\u001b[0m\u001b[1;33m\u001b[0m\u001b[0m\n\u001b[0m\u001b[0;32m     13\u001b[0m \u001b[0mNAmap\u001b[0m\u001b[1;33m.\u001b[0m\u001b[0mscatter\u001b[0m\u001b[1;33m(\u001b[0m\u001b[0mcsvData\u001b[0m\u001b[1;33m.\u001b[0m\u001b[0mLongitude\u001b[0m\u001b[1;33m,\u001b[0m\u001b[0mcsvData\u001b[0m\u001b[1;33m.\u001b[0m\u001b[0mLatitude\u001b[0m\u001b[1;33m)\u001b[0m\u001b[1;33m\u001b[0m\u001b[0m\n\u001b[0;32m     14\u001b[0m \u001b[0mplt\u001b[0m\u001b[1;33m.\u001b[0m\u001b[0mshow\u001b[0m\u001b[1;33m(\u001b[0m\u001b[1;33m)\u001b[0m\u001b[1;33m\u001b[0m\u001b[0m\n",
      "\u001b[1;31mTypeError\u001b[0m: 'float' object is not iterable"
     ]
    }
   ],
   "source": [
    "plt.figure()\n",
    "NAmap = Basemap(projection = 'merc',lat_0 = 21.5,lon_0 = -157.5,\n",
    "                resolution = 'h',area_thresh = 0.1,\n",
    "               llcrnrlon = -158,llcrnrlat = 21,\n",
    "               urcrnrlon = -157,urcrnrlat = 22)\n",
    "\n",
    "NAmap.drawcoastlines()\n",
    "NAmap.drawstates()\n",
    "NAmap.drawmapboundary(fill_color='#99ffff')\n",
    "NAmap.fillcontinents(color = 'coral',lake_color = 'aqua');\n",
    "\n",
    "x,y = map(21.5,-157.5)\n",
    "NAmap.scatter(csvData.Longitude,csvData.Latitude)\n",
    "plt.show()"
   ]
  }
 ],
 "metadata": {
  "kernelspec": {
   "display_name": "Python 3",
   "language": "python",
   "name": "python3"
  },
  "language_info": {
   "codemirror_mode": {
    "name": "ipython",
    "version": 3
   },
   "file_extension": ".py",
   "mimetype": "text/x-python",
   "name": "python",
   "nbconvert_exporter": "python",
   "pygments_lexer": "ipython3",
   "version": "3.6.6"
  }
 },
 "nbformat": 4,
 "nbformat_minor": 2
}
