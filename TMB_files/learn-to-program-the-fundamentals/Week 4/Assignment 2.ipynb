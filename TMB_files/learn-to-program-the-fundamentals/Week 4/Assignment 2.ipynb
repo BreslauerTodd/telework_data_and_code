{
 "cells": [
  {
   "cell_type": "code",
   "execution_count": 3,
   "metadata": {},
   "outputs": [],
   "source": [
    "def get_length(dna):\n",
    "    \"\"\" (str) -> int\n",
    "\n",
    "    Return the length of the DNA sequence dna.\n",
    "\n",
    "    >>> get_length('ATCGAT')\n",
    "    6\n",
    "    >>> get_length('ATCG')\n",
    "    4\n",
    "    \"\"\"\n",
    "\n",
    "    return len(dna)\n",
    "\n",
    "def is_longer(dna1, dna2):\n",
    "    \"\"\" (str, str) -> bool\n",
    "\n",
    "    Return True if and only if DNA sequence dna1 is longer than DNA sequence\n",
    "    dna2.\n",
    "\n",
    "    >>> is_longer('ATCG', 'AT')\n",
    "    True\n",
    "    >>> is_longer('ATCG', 'ATCGGA')\n",
    "    False\n",
    "    \"\"\"\n",
    "\n",
    "    return len(dna1) > len(dna2)\n",
    "\n",
    "def count_nucleotides(dna, nucleotide):\n",
    "    \"\"\" (str, str) -> int\n",
    "\n",
    "    Return the number of occurrences of nucleotide in the DNA sequence dna.\n",
    "\n",
    "    >>> count_nucleotides('ATCGGC', 'G')\n",
    "    2\n",
    "    >>> count_nucleotides('ATCTA', 'G')\n",
    "    0\n",
    "    \"\"\"\n",
    "\n",
    "    nuc_count = 0\n",
    "    for char in dna:\n",
    "        if char == nucleotide:\n",
    "            nuc_count = nuc_count + 1\n",
    "            \n",
    "    return nuc_count\n",
    "\n",
    "def contains_sequence(dna1, dna2):\n",
    "    \"\"\" (str, str) -> bool\n",
    "\n",
    "    Return True if and only if DNA sequence dna2 occurs in the DNA sequence\n",
    "    dna1.\n",
    "\n",
    "    >>> contains_sequence('ATCGGC', 'GG')\n",
    "    True\n",
    "    >>> contains_sequence('ATCGGC', 'GT')\n",
    "    False\n",
    "    \"\"\"\n",
    "    \n",
    "    return dna1.find(dna2) != -1"
   ]
  },
  {
   "cell_type": "code",
   "execution_count": 4,
   "metadata": {},
   "outputs": [
    {
     "name": "stdout",
     "output_type": "stream",
     "text": [
      "6\n",
      "4\n",
      "True\n",
      "False\n",
      "2\n",
      "0\n",
      "True\n",
      "False\n"
     ]
    }
   ],
   "source": [
    "print(get_length('ATCGAT'))\n",
    "print(get_length('ATCG'))\n",
    "print(is_longer('ATCG', 'AT'))\n",
    "print(is_longer('ATCG', 'ATCGGA'))\n",
    "print(count_nucleotides('ATCGGC', 'G'))\n",
    "print(count_nucleotides('ATCTA', 'G'))\n",
    "print(contains_sequence('ATCGGC', 'GG'))\n",
    "print(contains_sequence('ATCGGC', 'GT'))"
   ]
  },
  {
   "cell_type": "code",
   "execution_count": 5,
   "metadata": {},
   "outputs": [],
   "source": [
    "def is_valid_sequence(dna):\n",
    "    '''(str) -> bool\n",
    "    \n",
    "    Return True if and only if DNA sequence in \n",
    "    dna is a valid sequence, containing only A,\n",
    "    T, C, and G.\n",
    "    \n",
    "    >>>is_valid_sequence(\"ATACTGA\")\n",
    "    True\n",
    "    >>>is_valid_sequence(\"AcTGAT\")\n",
    "    False\n",
    "    '''\n",
    "    \n",
    "    isValid = True\n",
    "    valid_val = 'ATCG'\n",
    "    \n",
    "    for char in dna:\n",
    "        if not char in valid_val:\n",
    "            isValid = False\n",
    "            \n",
    "    return isValid\n",
    "\n",
    "\n",
    "def insert_sequence(dna1, dna2, loc):\n",
    "    '''(str, str, int) -> str\n",
    "    \n",
    "    Returns a str with DNA sequence dna2 inserted \n",
    "    at the index loc in DNA sequence dna1.\n",
    "    \n",
    "    >>>insert_sequence('CCGG', 'AT', 2)\n",
    "    'CCATGG'\n",
    "    >>>insert_sequence('CTGA', 'GAT', 0)\n",
    "    'GATCTGA'\n",
    "    '''\n",
    "    \n",
    "    new_sequence = dna1[:loc] + dna2 + dna1[loc:]\n",
    "    return new_sequence\n"
   ]
  },
  {
   "cell_type": "code",
   "execution_count": 6,
   "metadata": {},
   "outputs": [
    {
     "name": "stdout",
     "output_type": "stream",
     "text": [
      "True\n",
      "False\n"
     ]
    },
    {
     "data": {
      "text/plain": [
       "'CCATGG'"
      ]
     },
     "execution_count": 6,
     "metadata": {},
     "output_type": "execute_result"
    }
   ],
   "source": [
    "print(is_valid_sequence(\"ATACTGA\"))\n",
    "print(is_valid_sequence(\"AcTGAT\"))\n",
    "insert_sequence(\"CCGG\", \"AT\", 2)"
   ]
  },
  {
   "cell_type": "code",
   "execution_count": 7,
   "metadata": {},
   "outputs": [
    {
     "data": {
      "text/plain": [
       "'GATCTGA'"
      ]
     },
     "execution_count": 7,
     "metadata": {},
     "output_type": "execute_result"
    }
   ],
   "source": [
    "insert_sequence(\"CTGA\", \"GAT\", 0)"
   ]
  },
  {
   "cell_type": "code",
   "execution_count": null,
   "metadata": {},
   "outputs": [],
   "source": [
    "def get_complement(nucleotide):\n",
    "    '''(str) -> str\n",
    "    \n",
    "    Return the complementary nucleotide to the\n",
    "    nucleotide inputted.\n",
    "    \n",
    "    >>>get_complement('A')\n",
    "    'T'\n",
    "    >>>get_complement('C')\n",
    "    'G'\n",
    "    '''\n",
    "    \n",
    "    if nucleotide == 'A':\n",
    "        return 'T'\n",
    "    elif nucleotide == 'T':\n",
    "        return 'A'\n",
    "    elif nucleotide == 'C':\n",
    "        return 'G'\n",
    "    else:\n",
    "        return 'C'\n",
    "\n",
    "    \n",
    "def get_complementary_sequence(dna):\n",
    "    '''(str) -> str\n",
    "    \n",
    "    Return the complementary DNA sequence to\n",
    "    the DNA sequence inputted.\n",
    "    \n",
    "    >>>get_complementary_sequence('AT')\n",
    "    'TA'\n",
    "    >>>get_complementary_sequence('TCTAG')\n",
    "    'AGATC'\n",
    "    '''\n",
    "    \n",
    "    comp_sequence = ''\n",
    "    for char in dna:\n",
    "        comp_sequence = comp_sequence + get_complement(char)\n",
    "    \n",
    "    return comp_sequence"
   ]
  }
 ],
 "metadata": {
  "kernelspec": {
   "display_name": "Python 3",
   "language": "python",
   "name": "python3"
  },
  "language_info": {
   "codemirror_mode": {
    "name": "ipython",
    "version": 3
   },
   "file_extension": ".py",
   "mimetype": "text/x-python",
   "name": "python",
   "nbconvert_exporter": "python",
   "pygments_lexer": "ipython3",
   "version": "3.7.6"
  }
 },
 "nbformat": 4,
 "nbformat_minor": 4
}
