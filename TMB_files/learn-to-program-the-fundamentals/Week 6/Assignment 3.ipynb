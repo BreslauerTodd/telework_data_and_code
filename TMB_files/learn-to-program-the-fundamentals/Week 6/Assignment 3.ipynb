{
 "cells": [
  {
   "cell_type": "code",
   "execution_count": null,
   "metadata": {},
   "outputs": [],
   "source": [
    "def is_valid_word(wordlist, word):\n",
    "    \"\"\" (list of str, str) -> bool\n",
    "\n",
    "    Return True if and only if word is an element of wordlist.\n",
    "\n",
    "    >>> is_valid_word(['ANT', 'BOX', 'SOB', 'TO'], 'TO')\n",
    "    True\n",
    "    \"\"\"\n",
    "    \n",
    "    if word in wordlist:\n",
    "        inList = True\n",
    "    else:\n",
    "        inList = False\n",
    "\n",
    "    return inList\n",
    "\n",
    "def make_str_from_row(board, row_index):\n",
    "    \"\"\" (list of list of str, int) -> str\n",
    "\n",
    "    Return the characters from the row of the board with index row_index\n",
    "    as a single string.\n",
    "\n",
    "    >>> make_str_from_row([['A', 'N', 'T', 'T'], ['X', 'S', 'O', 'B']], 0)\n",
    "    'ANTT'\n",
    "    \"\"\"\n",
    "    \n",
    "    rowsum = ''\n",
    "    for i in board[row_index]:\n",
    "        rowsum = rowsum + i\n",
    "    return rowsum\n",
    "\n",
    "\n",
    "def make_str_from_column(board, column_index):\n",
    "    \"\"\" (list of list of str, int) -> str\n",
    "\n",
    "    Return the characters from the column of the board with index column_index\n",
    "    as a single string.\n",
    "\n",
    "    >>> make_str_from_column([['A', 'N', 'T', 'T'], ['X', 'S', 'O', 'B']], 1)\n",
    "    'NS'\n",
    "    \"\"\"\n",
    "    \n",
    "    colsum = ''\n",
    "    for i in range(len(board)):\n",
    "        colsum = colsum + board[i][column_index]\n",
    "    \n",
    "    return colsum\n",
    "\n",
    "\n",
    "def board_contains_word_in_row(board, word):\n",
    "    \"\"\" (list of list of str, str) -> bool\n",
    "\n",
    "    Return True if and only if one or more of the rows of the board contains\n",
    "    word.\n",
    "\n",
    "    Precondition: board has at least one row and one column, and word is a\n",
    "    valid word.\n",
    "\n",
    "    >>> board_contains_word_in_row([['A', 'N', 'T', 'T'], ['X', 'S', 'O', 'B']], 'SOB')\n",
    "    True\n",
    "    \"\"\"\n",
    "\n",
    "    for row_index in range(len(board)):\n",
    "        if word in make_str_from_row(board, row_index):\n",
    "            return True\n",
    "\n",
    "    return False\n",
    "\n",
    "\n",
    "def board_contains_word_in_column(board, word):\n",
    "    \"\"\" (list of list of str, str) -> bool\n",
    "\n",
    "    Return True if and only if one or more of the columns of the board\n",
    "    contains word.\n",
    "\n",
    "    Precondition: board has at least one row and one column, and word is a\n",
    "    valid word.\n",
    "\n",
    "    >>> board_contains_word_in_column([['A', 'N', 'T', 'T'], ['X', 'S', 'O', 'B']], 'NO')\n",
    "    False\n",
    "    \"\"\"\n",
    "    \n",
    "    for column_index in range(len(board[0])):\n",
    "        if word in make_str_from_column(board, column_index):\n",
    "            return True\n",
    "\n",
    "    return False\n",
    "\n",
    "\n",
    "def board_contains_word(board, word):\n",
    "    \"\"\" (list of list of str, str) -> bool\n",
    "\n",
    "    Return True if and only if word appears in board.\n",
    "\n",
    "    Precondition: board has at least one row and one column.\n",
    "\n",
    "    >>> board_contains_word([['A', 'N', 'T', 'T'], ['X', 'S', 'O', 'B']], 'ANT')\n",
    "    True\n",
    "    \"\"\"\n",
    "    \n",
    "    if board_contains_word_in_row(board, word):\n",
    "        return True\n",
    "    elif board_contains_word_in_column(board, word):\n",
    "        return True\n",
    "    else:\n",
    "        return False\n",
    "\n",
    "\n",
    "def word_score(word):\n",
    "    \"\"\" (str) -> int\n",
    "\n",
    "    Return the point value the word earns.\n",
    "\n",
    "    Word length: < 3: 0 points\n",
    "                 3-6: 1 point per character for all characters in word\n",
    "                 7-9: 2 points per character for all characters in word\n",
    "                 10+: 3 points per character for all characters in word\n",
    "\n",
    "    >>> word_score('DRUDGERY')\n",
    "    16\n",
    "    \"\"\"\n",
    "    word_length = len(word)\n",
    "    if word_length < 3:\n",
    "        return 0\n",
    "    elif word_length < 7:\n",
    "        return word_length\n",
    "    elif word_length < 10:\n",
    "        return word_length * 2\n",
    "    else:\n",
    "        return word_length * 3\n",
    "\n",
    "\n",
    "def update_score(player_info, word):\n",
    "    \"\"\" ([str, int] list, str) -> NoneType\n",
    "\n",
    "    player_info is a list with the player's name and score. Update player_info\n",
    "    by adding the point value word earns to the player's score.\n",
    "\n",
    "    >>> update_score(['Jonathan', 4], 'ANT')\n",
    "    \"\"\"\n",
    "    \n",
    "    add_score = word_score(word)\n",
    "    new_score = player_info[1] + add_score\n",
    "    player_info[1] = new_score\n",
    "\n",
    "\n",
    "def num_words_on_board(board, words):\n",
    "    \"\"\" (list of list of str, list of str) -> int\n",
    "\n",
    "    Return how many words appear on board.\n",
    "\n",
    "    >>> num_words_on_board([['A', 'N', 'T', 'T'], ['X', 'S', 'O', 'B']], ['ANT', 'BOX', 'SOB', 'TO'])\n",
    "    3\n",
    "    \"\"\"\n",
    "    \n",
    "    count = 0\n",
    "    \n",
    "    for i in words:\n",
    "        if board_contains_word(board,i):\n",
    "            count = count +1\n",
    "    \n",
    "    return count\n",
    "\n",
    "\n",
    "def read_words(words_file):\n",
    "    \"\"\" (file open for reading) -> list of str\n",
    "\n",
    "    Return a list of all words (with newlines removed) from open file\n",
    "    words_file.\n",
    "\n",
    "    Precondition: Each line of the file contains a word in uppercase characters\n",
    "    from the standard English alphabet.\n",
    "    \"\"\"\n",
    "    \n",
    "    wordFile = open(words_file, 'r')\n",
    "    words = []\n",
    "    \n",
    "    for line in wordFile:\n",
    "        words.append(line.rstrip('\\n'))\n",
    "    \n",
    "    wordFile.close()\n",
    "    \n",
    "    return words\n",
    "\n",
    "\n",
    "def read_board(board_file):\n",
    "    \"\"\" (file open for reading) -> list of list of str\n",
    "\n",
    "    Return a board read from open file board_file. The board file will contain\n",
    "    one row of the board per line. Newlines are not included in the board.\n",
    "    \"\"\"\n",
    "    \n",
    "    boardFile = open(board_file, 'r')\n",
    "    board = []\n",
    "    for line in boardFile:\n",
    "        baseline = line.rstrip('\\n')\n",
    "        lineList = []\n",
    "        for i in range(0,len(line)-1):\n",
    "            lineList.append(baseline[i])\n",
    "        board.append(lineList)\n",
    "        \n",
    "    boardFile.close()\n",
    "    \n",
    "    return board\n"
   ]
  },
  {
   "cell_type": "code",
   "execution_count": 3,
   "metadata": {},
   "outputs": [
    {
     "data": {
      "text/plain": [
       "False"
      ]
     },
     "execution_count": 3,
     "metadata": {},
     "output_type": "execute_result"
    }
   ],
   "source": [
    "def is_valid_word(wordlist, word):\n",
    "    \"\"\" (list of str, str) -> bool\n",
    "\n",
    "    Return True if and only if word is an element of wordlist.\n",
    "\n",
    "    >>> is_valid_word(['ANT', 'BOX', 'SOB', 'TO'], 'TO')\n",
    "    True\n",
    "    \"\"\"\n",
    "    \n",
    "    if word in wordlist:\n",
    "        inList = True\n",
    "    else:\n",
    "        inList = False\n",
    "\n",
    "    return inList\n",
    "\n",
    "is_valid_word(['ANT', 'BOX', 'TO'], 'SOB')\n"
   ]
  },
  {
   "cell_type": "code",
   "execution_count": 6,
   "metadata": {},
   "outputs": [
    {
     "data": {
      "text/plain": [
       "'XSOB'"
      ]
     },
     "execution_count": 6,
     "metadata": {},
     "output_type": "execute_result"
    }
   ],
   "source": [
    "def make_str_from_row(board, row_index):\n",
    "    \"\"\" (list of list of str, int) -> str\n",
    "\n",
    "    Return the characters from the row of the board with index row_index\n",
    "    as a single string.\n",
    "\n",
    "    >>> make_str_from_row([['A', 'N', 'T', 'T'], ['X', 'S', 'O', 'B']], 0)\n",
    "    'ANTT'\n",
    "    \"\"\"\n",
    "    \n",
    "    rowsum = ''\n",
    "    for i in board[row_index]:\n",
    "        rowsum = rowsum + i\n",
    "    return rowsum\n",
    "\n",
    "make_str_from_row([['A', 'N', 'T', 'T'], ['X', 'S', 'O', 'B']], 1)"
   ]
  },
  {
   "cell_type": "code",
   "execution_count": 9,
   "metadata": {},
   "outputs": [
    {
     "data": {
      "text/plain": [
       "'AX'"
      ]
     },
     "execution_count": 9,
     "metadata": {},
     "output_type": "execute_result"
    }
   ],
   "source": [
    "def make_str_from_column(board, column_index):\n",
    "    \"\"\" (list of list of str, int) -> str\n",
    "\n",
    "    Return the characters from the column of the board with index column_index\n",
    "    as a single string.\n",
    "\n",
    "    >>> make_str_from_column([['A', 'N', 'T', 'T'], ['X', 'S', 'O', 'B']], 1)\n",
    "    'NS'\n",
    "    \"\"\"\n",
    "    \n",
    "    colsum = ''\n",
    "    for i in range(len(board)):\n",
    "        colsum = colsum + board[i][column_index]\n",
    "    \n",
    "    return colsum\n",
    "\n",
    "make_str_from_column([['A', 'N', 'T', 'T'], ['X', 'S', 'O', 'B']], 0)"
   ]
  },
  {
   "cell_type": "code",
   "execution_count": 11,
   "metadata": {},
   "outputs": [
    {
     "data": {
      "text/plain": [
       "True"
      ]
     },
     "execution_count": 11,
     "metadata": {},
     "output_type": "execute_result"
    }
   ],
   "source": [
    "def board_contains_word_in_row(board, word):\n",
    "    \"\"\" (list of list of str, str) -> bool\n",
    "\n",
    "    Return True if and only if one or more of the rows of the board contains\n",
    "    word.\n",
    "\n",
    "    Precondition: board has at least one row and one column, and word is a\n",
    "    valid word.\n",
    "\n",
    "    >>> board_contains_word_in_row([['A', 'N', 'T', 'T'], ['X', 'S', 'O', 'B']], 'SOB')\n",
    "    True\n",
    "    \"\"\"\n",
    "\n",
    "    for row_index in range(len(board)):\n",
    "        if word in make_str_from_row(board, row_index):\n",
    "            return True\n",
    "\n",
    "    return False\n",
    "\n",
    "board_contains_word_in_row([['A', 'N', 'T', 'T'], ['X', 'S', 'O', 'B']], 'ANT')"
   ]
  },
  {
   "cell_type": "code",
   "execution_count": 15,
   "metadata": {},
   "outputs": [
    {
     "data": {
      "text/plain": [
       "True"
      ]
     },
     "execution_count": 15,
     "metadata": {},
     "output_type": "execute_result"
    }
   ],
   "source": [
    "def board_contains_word_in_column(board, word):\n",
    "    \"\"\" (list of list of str, str) -> bool\n",
    "\n",
    "    Return True if and only if one or more of the columns of the board\n",
    "    contains word.\n",
    "\n",
    "    Precondition: board has at least one row and one column, and word is a\n",
    "    valid word.\n",
    "\n",
    "    >>> board_contains_word_in_column([['A', 'N', 'T', 'T'], ['X', 'S', 'O', 'B']], 'NO')\n",
    "    False\n",
    "    \"\"\"\n",
    "    \n",
    "    for column_index in range(len(board[0])):\n",
    "        if word in make_str_from_column(board, column_index):\n",
    "            return True\n",
    "\n",
    "    return False\n",
    "\n",
    "board_contains_word_in_column([['A', 'N', 'T', 'T'], ['X', 'S', 'O', 'B']], 'NS')"
   ]
  },
  {
   "cell_type": "code",
   "execution_count": 18,
   "metadata": {},
   "outputs": [
    {
     "data": {
      "text/plain": [
       "False"
      ]
     },
     "execution_count": 18,
     "metadata": {},
     "output_type": "execute_result"
    }
   ],
   "source": [
    "def board_contains_word(board, word):\n",
    "    \"\"\" (list of list of str, str) -> bool\n",
    "\n",
    "    Return True if and only if word appears in board.\n",
    "\n",
    "    Precondition: board has at least one row and one column.\n",
    "\n",
    "    >>> board_contains_word([['A', 'N', 'T', 'T'], ['X', 'S', 'O', 'B']], 'ANT')\n",
    "    True\n",
    "    \"\"\"\n",
    "    \n",
    "    if board_contains_word_in_row(board, word):\n",
    "        return True\n",
    "    elif board_contains_word_in_column(board, word):\n",
    "        return True\n",
    "    else:\n",
    "        return False\n",
    "    \n",
    "board_contains_word([['A', 'N', 'T', 'T'], ['X', 'S', 'O', 'B']], 'TS')"
   ]
  },
  {
   "cell_type": "code",
   "execution_count": 23,
   "metadata": {},
   "outputs": [
    {
     "data": {
      "text/plain": [
       "36"
      ]
     },
     "execution_count": 23,
     "metadata": {},
     "output_type": "execute_result"
    }
   ],
   "source": [
    "def word_score(word):\n",
    "    \"\"\" (str) -> int\n",
    "\n",
    "    Return the point value the word earns.\n",
    "\n",
    "    Word length: < 3: 0 points\n",
    "                 3-6: 1 point per character for all characters in word\n",
    "                 7-9: 2 points per character for all characters in word\n",
    "                 10+: 3 points per character for all characters in word\n",
    "\n",
    "    >>> word_score('DRUDGERY')\n",
    "    16\n",
    "    \"\"\"\n",
    "    word_length = len(word)\n",
    "    if word_length < 3:\n",
    "        return 0\n",
    "    elif word_length < 7:\n",
    "        return word_length\n",
    "    elif word_length < 10:\n",
    "        return word_length * 2\n",
    "    else:\n",
    "        return word_length * 3\n",
    "    \n",
    "word_score('TOTALITARIAN')"
   ]
  },
  {
   "cell_type": "code",
   "execution_count": 25,
   "metadata": {},
   "outputs": [
    {
     "data": {
      "text/plain": [
       "40"
      ]
     },
     "execution_count": 25,
     "metadata": {},
     "output_type": "execute_result"
    }
   ],
   "source": [
    "def update_score(player_info, word):\n",
    "    \"\"\" ([str, int] list, str) -> NoneType\n",
    "\n",
    "    player_info is a list with the player's name and score. Update player_info\n",
    "    by adding the point value word earns to the player's score.\n",
    "\n",
    "    >>> update_score(['Jonathan', 4], 'ANT')\n",
    "    \"\"\"\n",
    "    \n",
    "    add_score = word_score(word)\n",
    "    new_score = player_info[1] + add_score\n",
    "    player_info[1] = new_score\n",
    "    \n",
    "player1 = ['Jonathan', 4]\n",
    "update_score(player1, 'TOTALITARIAN')\n",
    "player1[1]"
   ]
  },
  {
   "cell_type": "code",
   "execution_count": 32,
   "metadata": {},
   "outputs": [
    {
     "data": {
      "text/plain": [
       "3"
      ]
     },
     "execution_count": 32,
     "metadata": {},
     "output_type": "execute_result"
    }
   ],
   "source": [
    "def num_words_on_board(board, words):\n",
    "    \"\"\" (list of list of str, list of str) -> int\n",
    "\n",
    "    Return how many words appear on board.\n",
    "\n",
    "    >>> num_words_on_board([['A', 'N', 'T', 'T'], ['X', 'S', 'O', 'B']], ['ANT', 'BOX', 'SOB', 'TO'])\n",
    "    3\n",
    "    \"\"\"\n",
    "    \n",
    "    count = 0\n",
    "    \n",
    "    for i in words:\n",
    "        if board_contains_word(board,i):\n",
    "            count = count +1\n",
    "    \n",
    "    return count\n",
    "\n",
    "num_words_on_board([['A', 'N', 'T', 'T'], ['X', 'S', 'O', 'B']], ['ANT', 'BOX', 'SOB', 'TO'])"
   ]
  },
  {
   "cell_type": "code",
   "execution_count": 7,
   "metadata": {},
   "outputs": [
    {
     "name": "stdout",
     "output_type": "stream",
     "text": [
      "[['E', 'F', 'J', 'A', 'J', 'C', 'O', 'W', 'S', 'S'], ['S', 'D', 'G', 'K', 'S', 'R', 'F', 'D', 'F', 'F'], ['A', 'S', 'R', 'J', 'D', 'U', 'S', 'K', 'L', 'K'], ['H', 'E', 'A', 'N', 'D', 'N', 'D', 'J', 'W', 'A'], ['A', 'N', 'S', 'D', 'N', 'C', 'N', 'E', 'O', 'P'], ['P', 'M', 'S', 'N', 'F', 'H', 'H', 'E', 'J', 'E'], ['J', 'E', 'P', 'Q', 'L', 'Y', 'N', 'X', 'D', 'L']]\n"
     ]
    }
   ],
   "source": [
    "def read_board(board_file):\n",
    "    \"\"\" (file open for reading) -> list of list of str\n",
    "\n",
    "    Return a board read from open file board_file. The board file will contain\n",
    "    one row of the board per line. Newlines are not included in the board.\n",
    "    \"\"\"\n",
    "    \n",
    "    board = []\n",
    "    for line in boardFile:\n",
    "        baseline = line.rstrip('\\n')\n",
    "        lineList = []\n",
    "        for i in range(0,len(baseline)):\n",
    "            lineList.append(baseline[i])\n",
    "        board.append(lineList)\n",
    "    \n",
    "    return board\n",
    "boardFile = open('boardfile.txt', 'r')\n",
    "testPrint = read_board(boardFile)\n",
    "boardFile.close()\n",
    "print(testPrint)"
   ]
  },
  {
   "cell_type": "code",
   "execution_count": 40,
   "metadata": {},
   "outputs": [
    {
     "data": {
      "text/plain": [
       "11"
      ]
     },
     "execution_count": 40,
     "metadata": {},
     "output_type": "execute_result"
    }
   ],
   "source": [
    "len('EFJAJCOWSS\\n')"
   ]
  },
  {
   "cell_type": "code",
   "execution_count": 39,
   "metadata": {},
   "outputs": [
    {
     "data": {
      "text/plain": [
       "'F'"
      ]
     },
     "execution_count": 39,
     "metadata": {},
     "output_type": "execute_result"
    }
   ],
   "source": [
    "line1 = 'EFJAJCOWSS'\n",
    "line1[1]"
   ]
  },
  {
   "cell_type": "code",
   "execution_count": 3,
   "metadata": {},
   "outputs": [
    {
     "name": "stdout",
     "output_type": "stream",
     "text": [
      "['CRUNCHY', 'COWS', 'EAT', 'GRASS']\n"
     ]
    }
   ],
   "source": [
    "def read_words(words_file):\n",
    "    \"\"\" (file open for reading) -> list of str\n",
    "\n",
    "    Return a list of all words (with newlines removed) from open file\n",
    "    words_file.\n",
    "\n",
    "    Precondition: Each line of the file contains a word in uppercase characters\n",
    "    from the standard English alphabet.\n",
    "    \"\"\"\n",
    "    \n",
    "    words = []\n",
    "    \n",
    "    for line in words_file:\n",
    "        words.append(line.rstrip('\\n'))\n",
    "    \n",
    "    \n",
    "    return words\n",
    "\n",
    "wordFile = open('wordFile.txt', 'r')\n",
    "testPrint = read_words(wordFile)\n",
    "wordFile.close()\n",
    "print(testPrint)"
   ]
  },
  {
   "cell_type": "code",
   "execution_count": null,
   "metadata": {},
   "outputs": [],
   "source": []
  }
 ],
 "metadata": {
  "kernelspec": {
   "display_name": "Python 3",
   "language": "python",
   "name": "python3"
  },
  "language_info": {
   "codemirror_mode": {
    "name": "ipython",
    "version": 3
   },
   "file_extension": ".py",
   "mimetype": "text/x-python",
   "name": "python",
   "nbconvert_exporter": "python",
   "pygments_lexer": "ipython3",
   "version": "3.7.6"
  }
 },
 "nbformat": 4,
 "nbformat_minor": 4
}
