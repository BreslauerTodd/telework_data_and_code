{
 "cells": [
  {
   "cell_type": "code",
   "execution_count": 1,
   "metadata": {},
   "outputs": [],
   "source": [
    "def count_matches(s1, s2):\n",
    "    ''' (str, str) -> int\n",
    "    \n",
    "    Return the number of positions in s1 that contain the\n",
    "    same character at the corresponding position of s2.\n",
    "    \n",
    "    Precondition: len(s1) == len(s2)\n",
    "    \n",
    "    >>> count_matches('ate', 'ape')\n",
    "    2\n",
    "    >>> count_matches('head', 'hard')\n",
    "    2\n",
    "    '''\n",
    "\n",
    "    num_matches = 0\n",
    "\n",
    "    for i in range(len(s1)):\n",
    "        if s1[i] == s2[i]:\n",
    "            num_matches = num_matches + 1\n",
    "\n",
    "    return num_matches\n",
    "    \n",
    "\n",
    "def sum_items(list1, list2):\n",
    "    ''' (list of number, list of number) -> list of number\n",
    "    \n",
    "    Return a new list in which each item is the sum of the items at the\n",
    "    corresponding position of list1 and list2.\n",
    "    \n",
    "    Precondition: len(list1) == len(list2)\n",
    "    \n",
    "    >> sum_items([1, 2, 3], [2, 4, 2])\n",
    "    [3, 6, 5]\n",
    "    '''\n",
    "\n",
    "    sum_list = []\n",
    "\n",
    "    for i in range(len(list1)):\n",
    "        sum_list.append(list1[i] + list2[i])\n",
    "\n",
    "    return sum_list"
   ]
  },
  {
   "cell_type": "code",
   "execution_count": 2,
   "metadata": {},
   "outputs": [
    {
     "data": {
      "text/plain": [
       "[3, 6, 5]"
      ]
     },
     "execution_count": 2,
     "metadata": {},
     "output_type": "execute_result"
    }
   ],
   "source": [
    "sum_items([1, 2, 3], [2, 4, 2])"
   ]
  },
  {
   "cell_type": "code",
   "execution_count": 3,
   "metadata": {},
   "outputs": [
    {
     "data": {
      "text/plain": [
       "2"
      ]
     },
     "execution_count": 3,
     "metadata": {},
     "output_type": "execute_result"
    }
   ],
   "source": [
    "count_matches('ate', 'ape')"
   ]
  },
  {
   "cell_type": "code",
   "execution_count": 4,
   "metadata": {},
   "outputs": [
    {
     "data": {
      "text/plain": [
       "2"
      ]
     },
     "execution_count": 4,
     "metadata": {},
     "output_type": "execute_result"
    }
   ],
   "source": [
    "count_matches('head', 'hard')"
   ]
  },
  {
   "cell_type": "code",
   "execution_count": null,
   "metadata": {},
   "outputs": [],
   "source": []
  }
 ],
 "metadata": {
  "kernelspec": {
   "display_name": "Python 3",
   "language": "python",
   "name": "python3"
  },
  "language_info": {
   "codemirror_mode": {
    "name": "ipython",
    "version": 3
   },
   "file_extension": ".py",
   "mimetype": "text/x-python",
   "name": "python",
   "nbconvert_exporter": "python",
   "pygments_lexer": "ipython3",
   "version": "3.7.6"
  }
 },
 "nbformat": 4,
 "nbformat_minor": 4
}
