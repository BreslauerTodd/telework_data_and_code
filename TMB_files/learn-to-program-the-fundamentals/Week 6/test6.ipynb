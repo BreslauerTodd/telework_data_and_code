{
 "cells": [
  {
   "cell_type": "code",
   "execution_count": 5,
   "metadata": {},
   "outputs": [
    {
     "name": "stdout",
     "output_type": "stream",
     "text": [
      "Help on method_descriptor:\n",
      "\n",
      "rstrip(self, chars=None, /)\n",
      "    Return a copy of the string with trailing whitespace removed.\n",
      "    \n",
      "    If chars is given and not None, remove characters in chars instead.\n",
      "\n"
     ]
    }
   ],
   "source": [
    "help(str.rstrip)"
   ]
  },
  {
   "cell_type": "code",
   "execution_count": 5,
   "metadata": {},
   "outputs": [
    {
     "ename": "NameError",
     "evalue": "name 'data_file' is not defined",
     "output_type": "error",
     "traceback": [
      "\u001b[0;31m---------------------------------------------------------------------------\u001b[0m",
      "\u001b[0;31mNameError\u001b[0m                                 Traceback (most recent call last)",
      "\u001b[0;32m<ipython-input-5-ece755763e13>\u001b[0m in \u001b[0;36m<module>\u001b[0;34m\u001b[0m\n\u001b[0;32m----> 1\u001b[0;31m \u001b[0;32mfor\u001b[0m \u001b[0mline\u001b[0m \u001b[0;32min\u001b[0m \u001b[0mdata_file\u001b[0m\u001b[0;34m:\u001b[0m\u001b[0;34m\u001b[0m\u001b[0;34m\u001b[0m\u001b[0m\n\u001b[0m\u001b[1;32m      2\u001b[0m      \u001b[0mprint\u001b[0m\u001b[0;34m(\u001b[0m\u001b[0mline\u001b[0m\u001b[0;34m)\u001b[0m\u001b[0;34m\u001b[0m\u001b[0;34m\u001b[0m\u001b[0m\n",
      "\u001b[0;31mNameError\u001b[0m: name 'data_file' is not defined"
     ]
    }
   ],
   "source": [
    "for line in data_file:\n",
    "     print(line)"
   ]
  },
  {
   "cell_type": "code",
   "execution_count": 4,
   "metadata": {},
   "outputs": [
    {
     "name": "stdout",
     "output_type": "stream",
     "text": [
      "Help on method_descriptor:\n",
      "\n",
      "strip(self, chars=None, /)\n",
      "    Return a copy of the string with leading and trailing whitespace removed.\n",
      "    \n",
      "    If chars is given and not None, remove characters in chars instead.\n",
      "\n",
      "12143a423\n",
      "\n",
      "afdsoifd\n",
      "\n",
      "12143a423\n",
      "afdsoifd\n",
      "12143a423\n",
      "\n",
      "afdsoifd\n",
      "\n",
      "12143a423\n",
      "afdsoifd\n"
     ]
    }
   ],
   "source": [
    "help(str.strip)\n",
    "line1 = '12143a423\\n'\n",
    "line2 = 'afdsoifd\\n'\n",
    "print(line1)\n",
    "print(line2)\n",
    "print(line1.strip())\n",
    "print(line2.strip())\n",
    "\n",
    "line1 = '12143a423\\n'\n",
    "line2 = 'afdsoifd\\n'\n",
    "print(line1)\n",
    "print(line2)\n",
    "\n",
    "print(line1, end='')\n",
    "print(line2, end='')"
   ]
  },
  {
   "cell_type": "code",
   "execution_count": 8,
   "metadata": {},
   "outputs": [
    {
     "name": "stdout",
     "output_type": "stream",
     "text": [
      "Help on built-in function print in module builtins:\n",
      "\n",
      "print(...)\n",
      "    print(value, ..., sep=' ', end='\\n', file=sys.stdout, flush=False)\n",
      "    \n",
      "    Prints the values to a stream, or to sys.stdout by default.\n",
      "    Optional keyword arguments:\n",
      "    file:  a file-like object (stream); defaults to the current sys.stdout.\n",
      "    sep:   string inserted between values, default a space.\n",
      "    end:   string appended after the last value, default a newline.\n",
      "    flush: whether to forcibly flush the stream.\n",
      "\n"
     ]
    }
   ],
   "source": [
    "help(print)"
   ]
  },
  {
   "cell_type": "code",
   "execution_count": 9,
   "metadata": {},
   "outputs": [
    {
     "name": "stdout",
     "output_type": "stream",
     "text": [
      "Help on method_descriptor:\n",
      "\n",
      "rstrip(self, chars=None, /)\n",
      "    Return a copy of the string with trailing whitespace removed.\n",
      "    \n",
      "    If chars is given and not None, remove characters in chars instead.\n",
      "\n"
     ]
    }
   ],
   "source": [
    "help(str.rstrip)"
   ]
  },
  {
   "cell_type": "code",
   "execution_count": 16,
   "metadata": {},
   "outputs": [
    {
     "name": "stdout",
     "output_type": "stream",
     "text": [
      "12143423\n"
     ]
    }
   ],
   "source": [
    "line = '12143423\\n\\n'\n",
    "print(line.rstrip('\\n'))"
   ]
  },
  {
   "cell_type": "code",
   "execution_count": 12,
   "metadata": {},
   "outputs": [
    {
     "name": "stdout",
     "output_type": "stream",
     "text": [
      "Help on method_descriptor:\n",
      "\n",
      "startswith(...)\n",
      "    S.startswith(prefix[, start[, end]]) -> bool\n",
      "    \n",
      "    Return True if S starts with the specified prefix, False otherwise.\n",
      "    With optional start, test S beginning at that position.\n",
      "    With optional end, stop comparing S at that position.\n",
      "    prefix can also be a tuple of strings to try.\n",
      "\n"
     ]
    }
   ],
   "source": [
    "help(str.startswith)"
   ]
  },
  {
   "cell_type": "code",
   "execution_count": 14,
   "metadata": {},
   "outputs": [
    {
     "ename": "NameError",
     "evalue": "name 'file' is not defined",
     "output_type": "error",
     "traceback": [
      "\u001b[0;31m---------------------------------------------------------------------------\u001b[0m",
      "\u001b[0;31mNameError\u001b[0m                                 Traceback (most recent call last)",
      "\u001b[0;32m<ipython-input-14-ead4f10766e5>\u001b[0m in \u001b[0;36m<module>\u001b[0;34m\u001b[0m\n\u001b[0;32m----> 1\u001b[0;31m \u001b[0mhelp\u001b[0m\u001b[0;34m(\u001b[0m\u001b[0mfile\u001b[0m\u001b[0;34m.\u001b[0m\u001b[0mwrite\u001b[0m\u001b[0;34m)\u001b[0m\u001b[0;34m\u001b[0m\u001b[0;34m\u001b[0m\u001b[0m\n\u001b[0m",
      "\u001b[0;31mNameError\u001b[0m: name 'file' is not defined"
     ]
    }
   ],
   "source": [
    "help(file.write)"
   ]
  },
  {
   "cell_type": "code",
   "execution_count": 15,
   "metadata": {},
   "outputs": [
    {
     "name": "stdout",
     "output_type": "stream",
     "text": [
      "12143423\n",
      "\n",
      "\n",
      "\n"
     ]
    }
   ],
   "source": [
    "print(line + '\\n')"
   ]
  },
  {
   "cell_type": "code",
   "execution_count": 19,
   "metadata": {},
   "outputs": [
    {
     "name": "stdout",
     "output_type": "stream",
     "text": [
      "1214342\n"
     ]
    }
   ],
   "source": [
    "line = '121434233ab3ab'\n",
    "print(line.rstrip('3ab'))"
   ]
  },
  {
   "cell_type": "code",
   "execution_count": 21,
   "metadata": {},
   "outputs": [
    {
     "name": "stdout",
     "output_type": "stream",
     "text": [
      "1214342\n"
     ]
    }
   ],
   "source": [
    "line = '121434233ab3ab'\n",
    "print(line.strip('3ab'))"
   ]
  },
  {
   "cell_type": "code",
   "execution_count": 22,
   "metadata": {},
   "outputs": [
    {
     "ename": "TypeError",
     "evalue": "list indices must be integers or slices, not str",
     "output_type": "error",
     "traceback": [
      "\u001b[0;31m---------------------------------------------------------------------------\u001b[0m",
      "\u001b[0;31mTypeError\u001b[0m                                 Traceback (most recent call last)",
      "\u001b[0;32m<ipython-input-22-cb9c58894bb9>\u001b[0m in \u001b[0;36m<module>\u001b[0;34m\u001b[0m\n\u001b[0;32m----> 1\u001b[0;31m \u001b[0mdata_file\u001b[0m \u001b[0;34m=\u001b[0m \u001b[0;34m[\u001b[0m\u001b[0;34m[\u001b[0m\u001b[0;34m'afdfada'\u001b[0m\u001b[0;34m]\u001b[0m\u001b[0;34m[\u001b[0m\u001b[0;34m'blnfgnjh'\u001b[0m\u001b[0;34m]\u001b[0m\u001b[0;34m[\u001b[0m\u001b[0;34m'jfgnfgbrey'\u001b[0m\u001b[0;34m]\u001b[0m\u001b[0;34m]\u001b[0m\u001b[0;34m\u001b[0m\u001b[0;34m\u001b[0m\u001b[0m\n\u001b[0m\u001b[1;32m      2\u001b[0m \u001b[0;34m\u001b[0m\u001b[0m\n\u001b[1;32m      3\u001b[0m \u001b[0;32mfor\u001b[0m \u001b[0mline\u001b[0m \u001b[0;32min\u001b[0m \u001b[0mdata_file\u001b[0m\u001b[0;34m:\u001b[0m\u001b[0;34m\u001b[0m\u001b[0;34m\u001b[0m\u001b[0m\n\u001b[1;32m      4\u001b[0m      \u001b[0mprint\u001b[0m\u001b[0;34m(\u001b[0m\u001b[0mline\u001b[0m\u001b[0;34m)\u001b[0m\u001b[0;34m\u001b[0m\u001b[0;34m\u001b[0m\u001b[0m\n",
      "\u001b[0;31mTypeError\u001b[0m: list indices must be integers or slices, not str"
     ]
    }
   ],
   "source": [
    "data_file = [['afdfada']['blnfgnjh']['jfgnfgbrey']]\n",
    "\n",
    "for line in data_file:\n",
    "     print(line)"
   ]
  },
  {
   "cell_type": "code",
   "execution_count": 23,
   "metadata": {},
   "outputs": [
    {
     "data": {
      "text/plain": [
       "True"
      ]
     },
     "execution_count": 23,
     "metadata": {},
     "output_type": "execute_result"
    }
   ],
   "source": [
    "def contains(value, lst):\n",
    "    \"\"\" (object, list of list) -> bool\n",
    "  \n",
    "    Return whether value is an element of one of the nested        lists in lst.\n",
    "\n",
    "    >>> contains('moogah', [[70, 'blue'], [1.24, 90, 'moogah'],    [80, 100]])\n",
    "    True\n",
    "    \"\"\"\n",
    "\n",
    "    found = False  # We have not yet found value in the lists   \n",
    "    for i in range(len(lst)):\n",
    "        for j in range(len(lst[i])):\n",
    "            if lst[i][j] == value:\n",
    "                found = True\n",
    "    return found\n",
    "\n",
    "contains('moogah', [[70, 'blue'], [1.24, 90, 'moogah'],    [80, 100]])"
   ]
  },
  {
   "cell_type": "code",
   "execution_count": 25,
   "metadata": {},
   "outputs": [
    {
     "data": {
      "text/plain": [
       "False"
      ]
     },
     "execution_count": 25,
     "metadata": {},
     "output_type": "execute_result"
    }
   ],
   "source": [
    "def contains(value, lst):\n",
    "    \"\"\" (object, list of list) -> bool\n",
    "  \n",
    "    Return whether value is an element of one of the nested        lists in lst.\n",
    "\n",
    "    >>> contains('moogah', [[70, 'blue'], [1.24, 90, 'moogah'],    [80, 100]])\n",
    "    True\n",
    "    \"\"\"\n",
    "\n",
    "    found = False  # We have not yet found value in the list.\n",
    "    \n",
    "    for i in range(len(lst)):\n",
    "        for j in range(len(lst[i])):\n",
    "            found = (lst[i][j] == value)\n",
    "    return found\n",
    "contains('moogah', [[70, 'blue'], [1.24, 90, 'moogah'],    [80, 100]])"
   ]
  },
  {
   "cell_type": "code",
   "execution_count": 27,
   "metadata": {},
   "outputs": [
    {
     "data": {
      "text/plain": [
       "True"
      ]
     },
     "execution_count": 27,
     "metadata": {},
     "output_type": "execute_result"
    }
   ],
   "source": [
    "def contains(value, lst):\n",
    "    \"\"\" (object, list of list) -> bool\n",
    "  \n",
    "    Return whether value is an element of one of the nested        lists in lst.\n",
    "\n",
    "    >>> contains('moogah', [[70, 'blue'], [1.24, 90, 'moogah'],    [80, 100]])\n",
    "    True\n",
    "    \"\"\"\n",
    "\n",
    "    found = False  # We have not yet found value in the list.\n",
    "    \n",
    "    for sublist in lst:\n",
    "        if value in sublist:\n",
    "            found = True\n",
    "    \n",
    "    return found\n",
    "contains('moogah', [[70, 'blue'], [1.24, 90, 'moogah'],    [80, 100]])"
   ]
  },
  {
   "cell_type": "code",
   "execution_count": 36,
   "metadata": {},
   "outputs": [
    {
     "name": "stdout",
     "output_type": "stream",
     "text": [
      "12143a423\n",
      "\n",
      "afdsoifd\n",
      "\n",
      "12143a423\n",
      "afdsoifd\n",
      "12143a423\n",
      "afdsoifd\n",
      "12143a423\n",
      "afdsoifd\n"
     ]
    }
   ],
   "source": [
    "line1 = '12143a423\\n'\n",
    "line2 = 'afdsoifd\\n'\n",
    "print(line1)\n",
    "print(line2)\n",
    "print(line1.strip())\n",
    "print(line2.strip())\n",
    "print(line1.rstrip('\\n'))\n",
    "print(line2.rstrip('\\n'))\n",
    "print(line1, end='')\n",
    "print(line2, end='')"
   ]
  },
  {
   "cell_type": "code",
   "execution_count": 38,
   "metadata": {},
   "outputs": [
    {
     "name": "stdout",
     "output_type": "stream",
     "text": [
      "['afdsoifd']\n"
     ]
    }
   ],
   "source": [
    "matches = []\n",
    "letter = 'a'\n",
    "fileList = [line1,line2]\n",
    "\n",
    "for i in fileList:\n",
    "    if i.startswith(letter):\n",
    "        matches.append(i.rstrip('\\n'))\n",
    "print(matches)"
   ]
  },
  {
   "cell_type": "code",
   "execution_count": 1,
   "metadata": {},
   "outputs": [
    {
     "name": "stdout",
     "output_type": "stream",
     "text": [
      "True\n"
     ]
    }
   ],
   "source": [
    "found = False  # We have not yet found value in the list.\n",
    "lst = [[70, 'blue'], [1.24, 90, 'moogah'],    [80, 100]]\n",
    "value = 'moogah'\n",
    "for sublist in lst:\n",
    "    if value in sublist:\n",
    "        found = True\n",
    "\n",
    "print(found)"
   ]
  },
  {
   "cell_type": "code",
   "execution_count": null,
   "metadata": {},
   "outputs": [],
   "source": []
  }
 ],
 "metadata": {
  "kernelspec": {
   "display_name": "Python 3",
   "language": "python",
   "name": "python3"
  },
  "language_info": {
   "codemirror_mode": {
    "name": "ipython",
    "version": 3
   },
   "file_extension": ".py",
   "mimetype": "text/x-python",
   "name": "python",
   "nbconvert_exporter": "python",
   "pygments_lexer": "ipython3",
   "version": "3.7.6"
  }
 },
 "nbformat": 4,
 "nbformat_minor": 4
}
