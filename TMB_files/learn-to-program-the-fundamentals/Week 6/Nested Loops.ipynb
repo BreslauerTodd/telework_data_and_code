{
 "cells": [
  {
   "cell_type": "code",
   "execution_count": 1,
   "metadata": {},
   "outputs": [],
   "source": [
    "def averages(grades):\n",
    "    '''\n",
    "    (list of list of number) -> list of float\n",
    "\n",
    "    Return a new list in which each item is the average of the\n",
    "    grades in the inner list at the corresponding position of\n",
    "    grades.\n",
    "\n",
    "    >>> averages([[70, 75, 80], [70, 80, 90, 100], [80, 100]])\n",
    "    [75.0, 85.0, 90.0]\n",
    "    '''\n",
    "\n",
    "    averages = []\n",
    "\n",
    "    for grades_list in grades:\n",
    "        # Calculate the average of grades_list and append it\n",
    "        # to averages.\n",
    "\n",
    "        total = 0\n",
    "        for mark in grades_list:\n",
    "            total = total + mark\n",
    "\n",
    "        averages.append(total / len(grades_list))\n",
    "\n",
    "    return averages"
   ]
  },
  {
   "cell_type": "code",
   "execution_count": 2,
   "metadata": {},
   "outputs": [
    {
     "data": {
      "text/plain": [
       "[70, 75, 80]"
      ]
     },
     "execution_count": 2,
     "metadata": {},
     "output_type": "execute_result"
    }
   ],
   "source": [
    "grades = [[70,75,80], [70,80,90,100], [80,100]]\n",
    "english = grades[0]\n",
    "english"
   ]
  },
  {
   "cell_type": "code",
   "execution_count": 3,
   "metadata": {},
   "outputs": [
    {
     "data": {
      "text/plain": [
       "225"
      ]
     },
     "execution_count": 3,
     "metadata": {},
     "output_type": "execute_result"
    }
   ],
   "source": [
    "total = 0\n",
    "for mark in english:\n",
    "    total = total + mark\n",
    "    \n",
    "total"
   ]
  },
  {
   "cell_type": "code",
   "execution_count": 4,
   "metadata": {},
   "outputs": [
    {
     "data": {
      "text/plain": [
       "75.0"
      ]
     },
     "execution_count": 4,
     "metadata": {},
     "output_type": "execute_result"
    }
   ],
   "source": [
    "total / len(english)"
   ]
  },
  {
   "cell_type": "code",
   "execution_count": null,
   "metadata": {},
   "outputs": [],
   "source": []
  }
 ],
 "metadata": {
  "kernelspec": {
   "display_name": "Python 3",
   "language": "python",
   "name": "python3"
  },
  "language_info": {
   "codemirror_mode": {
    "name": "ipython",
    "version": 3
   },
   "file_extension": ".py",
   "mimetype": "text/x-python",
   "name": "python",
   "nbconvert_exporter": "python",
   "pygments_lexer": "ipython3",
   "version": "3.7.6"
  }
 },
 "nbformat": 4,
 "nbformat_minor": 4
}
